{
  "cells": [
    {
      "cell_type": "code",
      "execution_count": null,
      "id": "YBt0F5HKEBmW",
      "metadata": {
        "id": "YBt0F5HKEBmW"
      },
      "outputs": [],
      "source": [
        "from google.colab import drive\n",
        "drive.mount(\"/content/drive\", force_remount=True)\n",
        "drive.mount('/content/drive')\n",
        "\n",
        "%cd /content/drive/MyDrive/NER"
      ]
    },
    {
      "cell_type": "code",
      "execution_count": null,
      "id": "hYR2ZOsu9xyf",
      "metadata": {
        "id": "hYR2ZOsu9xyf"
      },
      "outputs": [],
      "source": [
        "!ls /content/drive/MyDrive/NER\n",
        "\n"
      ]
    },
    {
      "cell_type": "code",
      "execution_count": null,
      "id": "eiDq54oQD924",
      "metadata": {
        "id": "eiDq54oQD924"
      },
      "outputs": [],
      "source": [
        "!pip install transformers"
      ]
    },
    {
      "cell_type": "code",
      "execution_count": null,
      "id": "2ffb6990",
      "metadata": {
        "_cell_guid": "b1076dfc-b9ad-4769-8c92-a6c4dae69d19",
        "_uuid": "8f2839f25d086af736a60e9eeb907d3b93b6e0e5",
        "execution": {
          "iopub.execute_input": "2022-07-05T10:14:10.549168Z",
          "iopub.status.busy": "2022-07-05T10:14:10.548284Z",
          "iopub.status.idle": "2022-07-05T10:14:18.118258Z",
          "shell.execute_reply": "2022-07-05T10:14:18.117342Z"
        },
        "id": "2ffb6990",
        "papermill": {
          "duration": 7.577162,
          "end_time": "2022-07-05T10:14:18.120870",
          "exception": false,
          "start_time": "2022-07-05T10:14:10.543708",
          "status": "completed"
        },
        "tags": []
      },
      "outputs": [],
      "source": [
        "from transformers import AutoModelWithLMHead, AutoTokenizer, AdamW, get_linear_schedule_with_warmup \n",
        "from transformers import Trainer, TrainingArguments\n",
        "from transformers import  DataCollatorForLanguageModeling, LineByLineTextDataset\n",
        "from torch.utils.data import DataLoader, Dataset\n"
      ]
    },
    {
      "cell_type": "code",
      "execution_count": null,
      "id": "4273f1b6",
      "metadata": {
        "execution": {
          "iopub.execute_input": "2022-07-05T10:14:18.127011Z",
          "iopub.status.busy": "2022-07-05T10:14:18.125746Z",
          "iopub.status.idle": "2022-07-05T10:14:18.131421Z",
          "shell.execute_reply": "2022-07-05T10:14:18.130510Z"
        },
        "id": "4273f1b6",
        "papermill": {
          "duration": 0.010401,
          "end_time": "2022-07-05T10:14:18.133410",
          "exception": false,
          "start_time": "2022-07-05T10:14:18.123009",
          "status": "completed"
        },
        "tags": []
      },
      "outputs": [],
      "source": [
        "class config:\n",
        "    MODEL_PATH = \"bert-base-uncased\"\n",
        "    TOKENIZER_PATH = \"bert-base-uncased\"\n",
        "    SAVE_DIR = \"./\"\n",
        "    BATCH_SIZE = 32\n",
        "    EPOCHS = 25\n",
        "    TOTAL_LEN  = 256\n",
        "    SAVE_STEPS = 10000"
      ]
    },
    {
      "cell_type": "code",
      "execution_count": null,
      "id": "e8e6a9f2",
      "metadata": {
        "execution": {
          "iopub.execute_input": "2022-07-05T10:14:18.137958Z",
          "iopub.status.busy": "2022-07-05T10:14:18.137693Z",
          "iopub.status.idle": "2022-07-05T10:15:48.538012Z",
          "shell.execute_reply": "2022-07-05T10:15:48.533871Z"
        },
        "id": "e8e6a9f2",
        "papermill": {
          "duration": 90.405015,
          "end_time": "2022-07-05T10:15:48.540139",
          "exception": false,
          "start_time": "2022-07-05T10:14:18.135124",
          "status": "completed"
        },
        "tags": []
      },
      "outputs": [],
      "source": [
        "model = AutoModelWithLMHead.from_pretrained(config.MODEL_PATH)\n",
        "tokenizer = AutoTokenizer.from_pretrained(config.MODEL_PATH)\n",
        "\n",
        "data_collator = DataCollatorForLanguageModeling(\n",
        "    tokenizer=tokenizer, mlm=True, mlm_probability=0.15\n",
        ")\n",
        "\n",
        "dataset= LineByLineTextDataset(\n",
        "    tokenizer = tokenizer,  \n",
        "    file_path = 'pre_train_text.txt',\n",
        "    block_size = config.TOTAL_LEN  \n",
        ")\n",
        "print('No. of lines: ', len(dataset))\n",
        "\n"
      ]
    },
    {
      "cell_type": "code",
      "execution_count": null,
      "id": "595386fc",
      "metadata": {
        "execution": {
          "iopub.execute_input": "2022-07-05T10:15:48.547588Z",
          "iopub.status.busy": "2022-07-05T10:15:48.547272Z",
          "iopub.status.idle": "2022-07-05T20:48:20.052071Z",
          "shell.execute_reply": "2022-07-05T20:48:20.051182Z"
        },
        "id": "595386fc",
        "papermill": {
          "duration": 37951.511541,
          "end_time": "2022-07-05T20:48:20.054176",
          "exception": false,
          "start_time": "2022-07-05T10:15:48.542635",
          "status": "completed"
        },
        "tags": []
      },
      "outputs": [],
      "source": [
        "training_args = TrainingArguments(\n",
        "    output_dir=config.SAVE_DIR,\n",
        "    overwrite_output_dir=True,\n",
        "    num_train_epochs=config.EPOCHS,\n",
        "    per_device_train_batch_size=config.BATCH_SIZE,\n",
        "    save_steps=config.SAVE_STEPS,\n",
        ")\n",
        "trainer = Trainer(\n",
        "    model=model,\n",
        "    args=training_args,\n",
        "    data_collator=data_collator,\n",
        "    train_dataset=dataset,\n",
        "\n",
        ")\n",
        "trainer.train()\n",
        "trainer.save_model(config.SAVE_DIR)"
      ]
    },
    {
      "cell_type": "code",
      "execution_count": null,
      "id": "bums9MafEqbd",
      "metadata": {
        "id": "bums9MafEqbd"
      },
      "outputs": [],
      "source": []
    }
  ],
  "metadata": {
    "accelerator": "GPU",
    "colab": {
      "provenance": []
    },
    "gpuClass": "standard",
    "kernelspec": {
      "display_name": "Python 3",
      "language": "python",
      "name": "python3"
    },
    "language_info": {
      "codemirror_mode": {
        "name": "ipython",
        "version": 3
      },
      "file_extension": ".py",
      "mimetype": "text/x-python",
      "name": "python",
      "nbconvert_exporter": "python",
      "pygments_lexer": "ipython3",
      "version": "3.7.12"
    },
    "papermill": {
      "default_parameters": {},
      "duration": 38060.503023,
      "end_time": "2022-07-05T20:48:23.013158",
      "environment_variables": {},
      "exception": null,
      "input_path": "__notebook__.ipynb",
      "output_path": "__notebook__.ipynb",
      "parameters": {},
      "start_time": "2022-07-05T10:14:02.510135",
      "version": "2.3.4"
    }
  },
  "nbformat": 4,
  "nbformat_minor": 5
}
